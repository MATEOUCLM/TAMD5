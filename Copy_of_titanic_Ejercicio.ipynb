{
  "cells": [
    {
      "cell_type": "markdown",
      "metadata": {
        "id": "SokvQ-3OsEL4"
      },
      "source": [
        "# ¿Que influyó en las muertes de pasajeros del Titanic?\n",
        " ¿La clase de pasaje? ¿La edad? ¿El costo del pasaje?"
      ]
    },
    {
      "cell_type": "markdown",
      "metadata": {
        "id": "l3A2XWchso3t"
      },
      "source": [
        "# Copie este notebook en su cuenta junto con los datos **titanic.csv** \n",
        "moodle de clase"
      ]
    },
    {
      "cell_type": "code",
      "execution_count": null,
      "metadata": {
        "id": "3SEr3GNp_h9U"
      },
      "outputs": [],
      "source": [
        "%cd <MUMADE-TADM>"
      ]
    },
    {
      "cell_type": "markdown",
      "metadata": {
        "id": "l-er_x1ytSqz"
      },
      "source": [
        "## Utilice estas librerías"
      ]
    },
    {
      "cell_type": "code",
      "execution_count": null,
      "metadata": {
        "id": "CQdOcbm1_AHX"
      },
      "outputs": [],
      "source": [
        "import pandas as pd\n",
        "import numpy as np\n",
        "from sklearn import tree\n",
        "from sklearn.tree import DecisionTreeClassifier\n",
        "from sklearn.tree import export_text\n",
        "import graphviz"
      ]
    },
    {
      "cell_type": "markdown",
      "metadata": {
        "id": "MJdFs5hZtjnT"
      },
      "source": [
        "## Lea el fichero de datos en un DataFrame de pandas **datos**"
      ]
    },
    {
      "cell_type": "code",
      "execution_count": null,
      "metadata": {
        "id": "eGY2VZzOATsD"
      },
      "outputs": [],
      "source": [
        "datos = pd.read_csv('titanic.csv')\n",
        "datos=pd.DataFrame(datos)\n",
        "datos.head()\n"
      ]
    },
    {
      "cell_type": "markdown",
      "metadata": {
        "id": "2E65IGRGtzWQ"
      },
      "source": [
        "## Investigue si hay datos erróneos o vacios con valor **Nan** y elimínelos"
      ]
    },
    {
      "cell_type": "code",
      "execution_count": null,
      "metadata": {
        "id": "ZHNqhdb2AiKk"
      },
      "outputs": [],
      "source": [
        "#Creamos una dataframe con las columnas que contienen algun NA\n",
        "X=datos.loc[:,datos.isnull().any()]\n",
        "#Eliminamos los NA y los guardamos en un tercer dataframe\n",
        "datos_limpios = datos.dropna(axis = 0, how  = 'any')\n",
        "datos_limpios.size\n",
        "#Y presentamos un header de los que hemos eliminado\n",
        "X.head(10)"
      ]
    },
    {
      "cell_type": "markdown",
      "metadata": {
        "id": "Sd_BVB7DuGK0"
      },
      "source": [
        "## Con los datos límpios cree el conjunto de datos de entrenamiento\n",
        "- **X** con las columnas 'Pclass','Age' y 'Fare'\n",
        "- **y** con la columna 'Survived'"
      ]
    },
    {
      "cell_type": "code",
      "execution_count": null,
      "metadata": {
        "id": "_6s3KsPRu3_M"
      },
      "outputs": [],
      "source": [
        "x=datos_limpios[['Pclass','Age','Fare']]\n",
        "y=datos_limpios[['Survived']]"
      ]
    },
    {
      "cell_type": "markdown",
      "metadata": {
        "id": "Gkl7D6ALvM2U"
      },
      "source": [
        "## Cree el árbol de clasificación **Ad**"
      ]
    },
    {
      "cell_type": "code",
      "execution_count": null,
      "metadata": {
        "id": "gqPAB36GBAAU"
      },
      "outputs": [],
      "source": [
        "from sklearn.tree import DecisionTreeClassifier\n",
        "from sklearn import tree\n",
        "\n",
        "#Creamos el árbpl vacío\n",
        "Ad=tree.DecisionTreeClassifier()\n",
        "#Y le añadimos los datos, x como independientes e y como dependiente\n",
        "Ad=Ad.fit(x,y)"
      ]
    },
    {
      "cell_type": "markdown",
      "metadata": {
        "id": "LSstHtxyvwiU"
      },
      "source": [
        "## Muestre árbol obtenido en forma de texto."
      ]
    },
    {
      "cell_type": "code",
      "execution_count": null,
      "metadata": {
        "id": "SfcKqf_CwrSp"
      },
      "outputs": [],
      "source": [
        "r =tree.export_text(Ad)\n",
        "print(r)"
      ]
    },
    {
      "cell_type": "markdown",
      "metadata": {
        "id": "ALl23aaTvgm3"
      },
      "source": [
        "## Exporte el árbol obtenido a un fichero **titanic.pdf**\n",
        "Utilize la libreria graphviz"
      ]
    },
    {
      "cell_type": "code",
      "execution_count": null,
      "metadata": {
        "id": "lbgWkRWT0sY6"
      },
      "outputs": [],
      "source": [
        "# Sacamos la información\n",
        "dot_data = tree.export_graphviz(Ad, out_file=None,\n",
        "                                filled=True)\n",
        "#La guardamos como gráfico con formato pdf\n",
        "graph =graphviz.Source(dot_data, format=\"pdf\")\n",
        "graph.render(\"Titanic\", view =True)"
      ]
    },
    {
      "cell_type": "markdown",
      "metadata": {
        "id": "_JZCZYsIwAlP"
      },
      "source": [
        "## Muestre de forma enriquecida el árbol obtenido\n",
        "Utilize la libreria graphviz"
      ]
    },
    {
      "cell_type": "code",
      "execution_count": null,
      "metadata": {
        "id": "nesxEUls1PFr"
      },
      "outputs": [],
      "source": [
        "dot_data2 = tree.export_graphviz(Ad,out_file=None,\n",
        "                                filled=True,\n",
        "                               rounded=True,\n",
        "                                special_characters=True)\n",
        "graph2 = graphviz.Source(dot_data2)\n",
        "graph2"
      ]
    },
    {
      "cell_type": "markdown",
      "metadata": {
        "id": "YNShCpe2xv3Y"
      },
      "source": [
        "## ¿Que característas son las más influyentes o decisivas?"
      ]
    },
    {
      "cell_type": "code",
      "execution_count": null,
      "metadata": {
        "id": "uVh7iayPx78J"
      },
      "outputs": [],
      "source": [
        "#Sacamos la importancia, normalizada\n",
        "l=Ad.tree_.compute_feature_importances(normalize=True)\n",
        "#Y la imprimimos\n",
        "print(l)\n",
        "#Vemos que la tercera es la más importante"
      ]
    },
    {
      "cell_type": "markdown",
      "metadata": {
        "id": "CgfWp0MWz1og"
      },
      "source": [
        "## Realiza alguna inferencia.\n",
        "Que propone para las filas 5 y 80 del Titanic.csv"
      ]
    },
    {
      "cell_type": "code",
      "execution_count": null,
      "metadata": {
        "id": "KtkKlHRM1fzI"
      },
      "outputs": [],
      "source": [
        "#Primero sacamos la informacion del dataframe\n",
        "print(f'{datos.loc[4]}')\n",
        "print(f'{datos.loc[79]}')\n",
        "#Y escogemos los datos manualmente para hacer las predicciones\n",
        "print(f'La prediccion de que el pasajero num 5 es {Ad.predict([[3,35,8.05]])}, es decir, sobrevive')\n",
        "print(f'La prediccion para el pasajero num 80 es {Ad.predict([[3,30,12.475]])}, es decir, sobrevive')\n",
        "#Para una mejor predicción, deberíamos haber añadido más columnas a x o bien haber cogido el dataframe entero para ordenarlo"
      ]
    },
    {
      "cell_type": "markdown",
      "source": [
        ""
      ],
      "metadata": {
        "id": "HX96rBW0V6XO"
      }
    }
  ],
  "metadata": {
    "celltoolbar": "Slideshow",
    "colab": {
      "collapsed_sections": [],
      "name": "Copy of titanic_Ejercicio.ipynb",
      "private_outputs": true,
      "provenance": []
    },
    "kernelspec": {
      "display_name": "Python 3",
      "language": "python",
      "name": "python3"
    },
    "language_info": {
      "codemirror_mode": {
        "name": "ipython",
        "version": 3
      },
      "file_extension": ".py",
      "mimetype": "text/x-python",
      "name": "python",
      "nbconvert_exporter": "python",
      "pygments_lexer": "ipython3",
      "version": "3.8.10"
    }
  },
  "nbformat": 4,
  "nbformat_minor": 0
}